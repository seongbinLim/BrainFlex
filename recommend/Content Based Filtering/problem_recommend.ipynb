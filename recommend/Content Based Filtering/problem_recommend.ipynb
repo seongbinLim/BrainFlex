{
 "cells": [
  {
   "cell_type": "code",
   "execution_count": 188,
   "metadata": {
    "tags": []
   },
   "outputs": [
    {
     "output_type": "stream",
     "name": "stdout",
     "text": "Requirement already satisfied: pandas in c:\\program files\\python35\\lib\\site-packages (0.25.3)\nRequirement already satisfied: numpy>=1.13.3 in c:\\program files\\python35\\lib\\site-packages (from pandas) (1.18.5)\nRequirement already satisfied: python-dateutil>=2.6.1 in c:\\users\\multicampus\\appdata\\roaming\\python\\python35\\site-packages (from pandas) (2.8.1)\nRequirement already satisfied: pytz>=2017.2 in c:\\program files\\python35\\lib\\site-packages (from pandas) (2020.1)\nRequirement already satisfied: six>=1.5 in c:\\users\\multicampus\\appdata\\roaming\\python\\python35\\site-packages (from python-dateutil>=2.6.1->pandas) (1.15.0)\nRequirement already satisfied: numpy in c:\\program files\\python35\\lib\\site-packages (1.18.5)\n"
    }
   ],
   "source": [
    "!pip install pandas\n",
    "!pip install numpy"
   ]
  },
  {
   "cell_type": "code",
   "execution_count": 189,
   "metadata": {},
   "outputs": [],
   "source": [
    "import pandas as pd\n",
    "import numpy as np\n",
    "import warnings;warnings.filterwarnings('ignore')"
   ]
  },
  {
   "cell_type": "code",
   "execution_count": 190,
   "metadata": {},
   "outputs": [],
   "source": [
    "problem = pd.read_csv('problem.csv')\n",
    "user = pd.read_csv('user.csv')\n",
    "target_problem = \"1009\""
   ]
  },
  {
   "cell_type": "code",
   "execution_count": 191,
   "metadata": {
    "tags": []
   },
   "outputs": [
    {
     "output_type": "stream",
     "name": "stdout",
     "text": "문제번호                                    링크           난이도       제목  \\\n0      1000  https://www.acmicpc.net/problem/1000      Bronze V      A+B   \n1      1001  https://www.acmicpc.net/problem/1001      Bronze V      A-B   \n2      1007  https://www.acmicpc.net/problem/1007       Gold II    벡터 매칭   \n3      1008  https://www.acmicpc.net/problem/1008     Bronze IV      A/B   \n4      1009  https://www.acmicpc.net/problem/1009    Bronze III     분산처리   \n...     ...                                   ...           ...      ...   \n18197  2549  https://www.acmicpc.net/problem/2549        Gold I  루빅의 사각형   \n18198  2794  https://www.acmicpc.net/problem/2794    Platinum I       화성   \n18199  3110  https://www.acmicpc.net/problem/3110      Gold III      부등식   \n18200  3148  https://www.acmicpc.net/problem/3148  Platinum III       빙고   \n18201  4160  https://www.acmicpc.net/problem/4160    Platinum V       이혼   \n\n             분류     해결  평균시도  \n0            수학  98776  2.26  \n1            수학  81082  1.39  \n2            수학    858  2.72  \n3            수학  53039  3.01  \n4            수학   6579  3.82  \n...         ...    ...   ...  \n18197  중간에서 만나기    234  3.18  \n18198  중간에서 만나기     11  3.00  \n18199  중간에서 만나기     38  2.79  \n18200  중간에서 만나기      3  4.00  \n18201  중간에서 만나기      9  2.67  \n\n[18202 rows x 7 columns]\n"
    }
   ],
   "source": [
    "print(problem)"
   ]
  },
  {
   "cell_type": "code",
   "execution_count": 192,
   "metadata": {
    "tags": []
   },
   "outputs": [
    {
     "output_type": "stream",
     "name": "stdout",
     "text": "문제번호           난이도        분류     해결  평균시도\n0      1000      Bronze V        수학  98776  2.26\n1      1001      Bronze V        수학  81082  1.39\n2      1007       Gold II        수학    858  2.72\n3      1008     Bronze IV        수학  53039  3.01\n4      1009    Bronze III        수학   6579  3.82\n...     ...           ...       ...    ...   ...\n18197  2549        Gold I  중간에서 만나기    234  3.18\n18198  2794    Platinum I  중간에서 만나기     11  3.00\n18199  3110      Gold III  중간에서 만나기     38  2.79\n18200  3148  Platinum III  중간에서 만나기      3  4.00\n18201  4160    Platinum V  중간에서 만나기      9  2.67\n\n[18202 rows x 5 columns]\n"
    }
   ],
   "source": [
    "problem_df = problem[['문제번호','난이도','분류','해결','평균시도']]\n",
    "print(problem_df)"
   ]
  },
  {
   "cell_type": "code",
   "execution_count": 193,
   "metadata": {},
   "outputs": [
    {
     "output_type": "execute_result",
     "data": {
      "text/plain": "   분류       난이도\n0  수학  Bronze V",
      "text/html": "<div>\n<style scoped>\n    .dataframe tbody tr th:only-of-type {\n        vertical-align: middle;\n    }\n\n    .dataframe tbody tr th {\n        vertical-align: top;\n    }\n\n    .dataframe thead th {\n        text-align: right;\n    }\n</style>\n<table border=\"1\" class=\"dataframe\">\n  <thead>\n    <tr style=\"text-align: right;\">\n      <th></th>\n      <th>분류</th>\n      <th>난이도</th>\n    </tr>\n  </thead>\n  <tbody>\n    <tr>\n      <th>0</th>\n      <td>수학</td>\n      <td>Bronze V</td>\n    </tr>\n  </tbody>\n</table>\n</div>"
     },
     "metadata": {},
     "execution_count": 193
    }
   ],
   "source": [
    "pd.set_option('max_colwidth',100)\n",
    "#각각의 장르와 그 장르의 id를 추출해 낼 수 있다\n",
    "problem_df[['분류','난이도']][:1]"
   ]
  },
  {
   "cell_type": "code",
   "execution_count": 194,
   "metadata": {},
   "outputs": [
    {
     "output_type": "error",
     "ename": "ValueError",
     "evalue": "malformed node or string: <_ast.Name object at 0x000001C6C4DB1908>",
     "traceback": [
      "\u001b[1;31m---------------------------------------------------------------------------\u001b[0m",
      "\u001b[1;31mValueError\u001b[0m                                Traceback (most recent call last)",
      "\u001b[1;32m<ipython-input-194-ad3c3e6a7768>\u001b[0m in \u001b[0;36m<module>\u001b[1;34m\u001b[0m\n\u001b[0;32m      1\u001b[0m \u001b[1;31m#literal_eval() 함수를 사용하면 이 문자열을 문자열이 의미하는 list[dict1, dict2] 객체로 만들 수 있다\u001b[0m\u001b[1;33m\u001b[0m\u001b[1;33m\u001b[0m\u001b[0m\n\u001b[0;32m      2\u001b[0m \u001b[1;32mfrom\u001b[0m \u001b[0mast\u001b[0m \u001b[1;32mimport\u001b[0m \u001b[0mliteral_eval\u001b[0m\u001b[1;33m\u001b[0m\u001b[0m\n\u001b[1;32m----> 3\u001b[1;33m \u001b[0mproblem_df\u001b[0m\u001b[1;33m[\u001b[0m\u001b[1;34m'분류'\u001b[0m\u001b[1;33m]\u001b[0m \u001b[1;33m=\u001b[0m \u001b[0mproblem_df\u001b[0m\u001b[1;33m[\u001b[0m\u001b[1;34m'분류'\u001b[0m\u001b[1;33m]\u001b[0m\u001b[1;33m.\u001b[0m\u001b[0mapply\u001b[0m\u001b[1;33m(\u001b[0m\u001b[0mliteral_eval\u001b[0m\u001b[1;33m)\u001b[0m \u001b[1;31m#genres 칼럼은 문자열이 아닌 실제 리스트 내부에 여러 장르 딕셔너리로 구성된 객체들을 가진다\u001b[0m\u001b[1;33m\u001b[0m\u001b[0m\n\u001b[0m\u001b[0;32m      4\u001b[0m \u001b[0mproblem_df\u001b[0m\u001b[1;33m[\u001b[0m\u001b[1;34m'난이도'\u001b[0m\u001b[1;33m]\u001b[0m \u001b[1;33m=\u001b[0m \u001b[0mproblem_df\u001b[0m\u001b[1;33m[\u001b[0m\u001b[1;34m'난이도'\u001b[0m\u001b[1;33m]\u001b[0m\u001b[1;33m.\u001b[0m\u001b[0mapply\u001b[0m\u001b[1;33m(\u001b[0m\u001b[0mliteral_eval\u001b[0m\u001b[1;33m)\u001b[0m\u001b[1;33m\u001b[0m\u001b[0m\n",
      "\u001b[1;32mC:\\Program Files\\Python35\\lib\\site-packages\\pandas\\core\\series.py\u001b[0m in \u001b[0;36mapply\u001b[1;34m(self, func, convert_dtype, args, **kwds)\u001b[0m\n\u001b[0;32m   4043\u001b[0m             \u001b[1;32melse\u001b[0m\u001b[1;33m:\u001b[0m\u001b[1;33m\u001b[0m\u001b[0m\n\u001b[0;32m   4044\u001b[0m                 \u001b[0mvalues\u001b[0m \u001b[1;33m=\u001b[0m \u001b[0mself\u001b[0m\u001b[1;33m.\u001b[0m\u001b[0mastype\u001b[0m\u001b[1;33m(\u001b[0m\u001b[0mobject\u001b[0m\u001b[1;33m)\u001b[0m\u001b[1;33m.\u001b[0m\u001b[0mvalues\u001b[0m\u001b[1;33m\u001b[0m\u001b[0m\n\u001b[1;32m-> 4045\u001b[1;33m                 \u001b[0mmapped\u001b[0m \u001b[1;33m=\u001b[0m \u001b[0mlib\u001b[0m\u001b[1;33m.\u001b[0m\u001b[0mmap_infer\u001b[0m\u001b[1;33m(\u001b[0m\u001b[0mvalues\u001b[0m\u001b[1;33m,\u001b[0m \u001b[0mf\u001b[0m\u001b[1;33m,\u001b[0m \u001b[0mconvert\u001b[0m\u001b[1;33m=\u001b[0m\u001b[0mconvert_dtype\u001b[0m\u001b[1;33m)\u001b[0m\u001b[1;33m\u001b[0m\u001b[0m\n\u001b[0m\u001b[0;32m   4046\u001b[0m \u001b[1;33m\u001b[0m\u001b[0m\n\u001b[0;32m   4047\u001b[0m         \u001b[1;32mif\u001b[0m \u001b[0mlen\u001b[0m\u001b[1;33m(\u001b[0m\u001b[0mmapped\u001b[0m\u001b[1;33m)\u001b[0m \u001b[1;32mand\u001b[0m \u001b[0misinstance\u001b[0m\u001b[1;33m(\u001b[0m\u001b[0mmapped\u001b[0m\u001b[1;33m[\u001b[0m\u001b[1;36m0\u001b[0m\u001b[1;33m]\u001b[0m\u001b[1;33m,\u001b[0m \u001b[0mSeries\u001b[0m\u001b[1;33m)\u001b[0m\u001b[1;33m:\u001b[0m\u001b[1;33m\u001b[0m\u001b[0m\n",
      "\u001b[1;32mpandas/_libs/lib.pyx\u001b[0m in \u001b[0;36mpandas._libs.lib.map_infer\u001b[1;34m()\u001b[0m\n",
      "\u001b[1;32mC:\\Program Files\\Python35\\lib\\ast.py\u001b[0m in \u001b[0;36mliteral_eval\u001b[1;34m(node_or_string)\u001b[0m\n\u001b[0;32m     82\u001b[0m                 \u001b[1;32mreturn\u001b[0m \u001b[0mleft\u001b[0m \u001b[1;33m-\u001b[0m \u001b[0mright\u001b[0m\u001b[1;33m\u001b[0m\u001b[0m\n\u001b[0;32m     83\u001b[0m         \u001b[1;32mraise\u001b[0m \u001b[0mValueError\u001b[0m\u001b[1;33m(\u001b[0m\u001b[1;34m'malformed node or string: '\u001b[0m \u001b[1;33m+\u001b[0m \u001b[0mrepr\u001b[0m\u001b[1;33m(\u001b[0m\u001b[0mnode\u001b[0m\u001b[1;33m)\u001b[0m\u001b[1;33m)\u001b[0m\u001b[1;33m\u001b[0m\u001b[0m\n\u001b[1;32m---> 84\u001b[1;33m     \u001b[1;32mreturn\u001b[0m \u001b[0m_convert\u001b[0m\u001b[1;33m(\u001b[0m\u001b[0mnode_or_string\u001b[0m\u001b[1;33m)\u001b[0m\u001b[1;33m\u001b[0m\u001b[0m\n\u001b[0m\u001b[0;32m     85\u001b[0m \u001b[1;33m\u001b[0m\u001b[0m\n\u001b[0;32m     86\u001b[0m \u001b[1;33m\u001b[0m\u001b[0m\n",
      "\u001b[1;32mC:\\Program Files\\Python35\\lib\\ast.py\u001b[0m in \u001b[0;36m_convert\u001b[1;34m(node)\u001b[0m\n\u001b[0;32m     81\u001b[0m             \u001b[1;32melse\u001b[0m\u001b[1;33m:\u001b[0m\u001b[1;33m\u001b[0m\u001b[0m\n\u001b[0;32m     82\u001b[0m                 \u001b[1;32mreturn\u001b[0m \u001b[0mleft\u001b[0m \u001b[1;33m-\u001b[0m \u001b[0mright\u001b[0m\u001b[1;33m\u001b[0m\u001b[0m\n\u001b[1;32m---> 83\u001b[1;33m         \u001b[1;32mraise\u001b[0m \u001b[0mValueError\u001b[0m\u001b[1;33m(\u001b[0m\u001b[1;34m'malformed node or string: '\u001b[0m \u001b[1;33m+\u001b[0m \u001b[0mrepr\u001b[0m\u001b[1;33m(\u001b[0m\u001b[0mnode\u001b[0m\u001b[1;33m)\u001b[0m\u001b[1;33m)\u001b[0m\u001b[1;33m\u001b[0m\u001b[0m\n\u001b[0m\u001b[0;32m     84\u001b[0m     \u001b[1;32mreturn\u001b[0m \u001b[0m_convert\u001b[0m\u001b[1;33m(\u001b[0m\u001b[0mnode_or_string\u001b[0m\u001b[1;33m)\u001b[0m\u001b[1;33m\u001b[0m\u001b[0m\n\u001b[0;32m     85\u001b[0m \u001b[1;33m\u001b[0m\u001b[0m\n",
      "\u001b[1;31mValueError\u001b[0m: malformed node or string: <_ast.Name object at 0x000001C6C4DB1908>"
     ]
    }
   ],
   "source": [
    "#literal_eval() 함수를 사용하면 이 문자열을 문자열이 의미하는 list[dict1, dict2] 객체로 만들 수 있다\n",
    "from ast import literal_eval\n",
    "problem_df['분류'] = problem_df['분류'].apply(literal_eval) #genres 칼럼은 문자열이 아닌 실제 리스트 내부에 여러 장르 딕셔너리로 구성된 객체들을 가진다\n",
    "problem_df['난이도'] = problem_df['난이도'].apply(literal_eval)\n"
   ]
  },
  {
   "cell_type": "code",
   "execution_count": 195,
   "metadata": {
    "tags": []
   },
   "outputs": [
    {
     "output_type": "stream",
     "name": "stdout",
     "text": "(18202, 151)\n"
    }
   ],
   "source": [
    "from sklearn.feature_extraction.text import CountVectorizer\n",
    "\n",
    "#CountVectorizer를 적용하기 위해 공백문자로 word 단위가 구분되는 문자열로 변환\n",
    "count_vect  = CountVectorizer(min_df = 0, ngram_range=(1,2))\n",
    "genre_mat = count_vect.fit_transform(problem_df['분류'])\n",
    "print(genre_mat.shape)"
   ]
  },
  {
   "cell_type": "code",
   "execution_count": 196,
   "metadata": {
    "tags": []
   },
   "outputs": [
    {
     "output_type": "stream",
     "name": "stdout",
     "text": "(18202, 18202)\n[[1. 1. 1. ... 0. 0. 0.]\n [1. 1. 1. ... 0. 0. 0.]\n [1. 1. 1. ... 0. 0. 0.]\n ...\n [0. 0. 0. ... 1. 1. 1.]\n [0. 0. 0. ... 1. 1. 1.]\n [0. 0. 0. ... 1. 1. 1.]]\n"
    }
   ],
   "source": [
    "from sklearn.metrics.pairwise import cosine_similarity\n",
    "\n",
    "genre_sim = cosine_similarity(genre_mat, genre_mat)\n",
    "print(genre_sim.shape)\n",
    "print(genre_sim)"
   ]
  },
  {
   "cell_type": "code",
   "execution_count": 197,
   "metadata": {
    "tags": []
   },
   "outputs": [
    {
     "output_type": "stream",
     "name": "stdout",
     "text": "[[    0  1142  1140 ... 12126 12125  9100]]\n"
    }
   ],
   "source": [
    "genre_sim_sorted_ind = genre_sim.argsort()[:,::-1]\n",
    "print(genre_sim_sorted_ind[:1])\n"
   ]
  },
  {
   "cell_type": "code",
   "execution_count": 198,
   "metadata": {},
   "outputs": [],
   "source": [
    "#장르 유사도에 따라 영화를 추천하는 함수\n",
    "#함수명 : find_sim_movie()\n",
    "#movies_df DataFrame : 기반 데이터\n",
    "#genre_sim_sorted_ind : 레코드별 장르 코사인 유사도 인덱스\n",
    "#DataFrame : 고객이 선정한 추천 기준이 되는 영화제목, 추천할 영화 건수를 입력하면 추천 영화 정보를 가짐\n",
    "def find_sim_problem(df, sorted_ind, title_name, top_n = 10):\n",
    "    \n",
    "    title_problem = df[df['문제번호']== int(title_name)]\n",
    "    \n",
    "    title_index = title_problem.index.values\n",
    "    similar_indexes = sorted_ind[title_index,:(top_n)]\n",
    "    \n",
    "    similar_indexes = similar_indexes.reshape(-1)\n",
    "    \n",
    "    return df.iloc[similar_indexes]"
   ]
  },
  {
   "cell_type": "code",
   "execution_count": 199,
   "metadata": {
    "tags": []
   },
   "outputs": [
    {
     "output_type": "execute_result",
     "data": {
      "text/plain": "      문제번호  평균시도     해결          난이도  분류\n0     1000  2.26  98776     Bronze V  수학\n1142  1193  1.88  14902    Bronze II  수학\n1140  1187  2.32     34    Diamond V  수학\n1139  1183  2.21     43     Silver V  수학\n1138  1179  2.84     85     Gold III  수학\n...    ...   ...    ...          ...  ..\n3968  1566  2.82     33       Gold V  구현\n3969  1568  1.31   1670    Bronze II  구현\n3970  1592  1.57   1298    Bronze II  구현\n3971  1617  1.27     11  Platinum II  구현\n3972  1640  1.98     47     Silver I  구현\n\n[1200 rows x 5 columns]",
      "text/html": "<div>\n<style scoped>\n    .dataframe tbody tr th:only-of-type {\n        vertical-align: middle;\n    }\n\n    .dataframe tbody tr th {\n        vertical-align: top;\n    }\n\n    .dataframe thead th {\n        text-align: right;\n    }\n</style>\n<table border=\"1\" class=\"dataframe\">\n  <thead>\n    <tr style=\"text-align: right;\">\n      <th></th>\n      <th>문제번호</th>\n      <th>평균시도</th>\n      <th>해결</th>\n      <th>난이도</th>\n      <th>분류</th>\n    </tr>\n  </thead>\n  <tbody>\n    <tr>\n      <th>0</th>\n      <td>1000</td>\n      <td>2.26</td>\n      <td>98776</td>\n      <td>Bronze V</td>\n      <td>수학</td>\n    </tr>\n    <tr>\n      <th>1142</th>\n      <td>1193</td>\n      <td>1.88</td>\n      <td>14902</td>\n      <td>Bronze II</td>\n      <td>수학</td>\n    </tr>\n    <tr>\n      <th>1140</th>\n      <td>1187</td>\n      <td>2.32</td>\n      <td>34</td>\n      <td>Diamond V</td>\n      <td>수학</td>\n    </tr>\n    <tr>\n      <th>1139</th>\n      <td>1183</td>\n      <td>2.21</td>\n      <td>43</td>\n      <td>Silver V</td>\n      <td>수학</td>\n    </tr>\n    <tr>\n      <th>1138</th>\n      <td>1179</td>\n      <td>2.84</td>\n      <td>85</td>\n      <td>Gold III</td>\n      <td>수학</td>\n    </tr>\n    <tr>\n      <th>...</th>\n      <td>...</td>\n      <td>...</td>\n      <td>...</td>\n      <td>...</td>\n      <td>...</td>\n    </tr>\n    <tr>\n      <th>3968</th>\n      <td>1566</td>\n      <td>2.82</td>\n      <td>33</td>\n      <td>Gold V</td>\n      <td>구현</td>\n    </tr>\n    <tr>\n      <th>3969</th>\n      <td>1568</td>\n      <td>1.31</td>\n      <td>1670</td>\n      <td>Bronze II</td>\n      <td>구현</td>\n    </tr>\n    <tr>\n      <th>3970</th>\n      <td>1592</td>\n      <td>1.57</td>\n      <td>1298</td>\n      <td>Bronze II</td>\n      <td>구현</td>\n    </tr>\n    <tr>\n      <th>3971</th>\n      <td>1617</td>\n      <td>1.27</td>\n      <td>11</td>\n      <td>Platinum II</td>\n      <td>구현</td>\n    </tr>\n    <tr>\n      <th>3972</th>\n      <td>1640</td>\n      <td>1.98</td>\n      <td>47</td>\n      <td>Silver I</td>\n      <td>구현</td>\n    </tr>\n  </tbody>\n</table>\n<p>1200 rows × 5 columns</p>\n</div>"
     },
     "metadata": {},
     "execution_count": 199
    }
   ],
   "source": [
    "similar_movies = find_sim_problem(problem_df, genre_sim_sorted_ind,target_problem, 40)\n",
    "similar_movies[['문제번호','평균시도','해결','난이도','분류']]"
   ]
  },
  {
   "cell_type": "code",
   "execution_count": 200,
   "metadata": {},
   "outputs": [
    {
     "output_type": "execute_result",
     "data": {
      "text/plain": "        문제번호           난이도  평균시도\n15157  16371     Diamond V   1.0\n17750  18350     Diamond I   1.0\n12830   3858    Platinum I   1.0\n17748  18163       Ruby II   1.0\n17747  17879   Platinum II   1.0\n16392  19327    Diamond IV   1.0\n13547   6752      Silver V   1.0\n12832   5041   Platinum II   1.0\n16109   2214      Gold III   1.0\n14659  11373  Platinum III   1.0",
      "text/html": "<div>\n<style scoped>\n    .dataframe tbody tr th:only-of-type {\n        vertical-align: middle;\n    }\n\n    .dataframe tbody tr th {\n        vertical-align: top;\n    }\n\n    .dataframe thead th {\n        text-align: right;\n    }\n</style>\n<table border=\"1\" class=\"dataframe\">\n  <thead>\n    <tr style=\"text-align: right;\">\n      <th></th>\n      <th>문제번호</th>\n      <th>난이도</th>\n      <th>평균시도</th>\n    </tr>\n  </thead>\n  <tbody>\n    <tr>\n      <th>15157</th>\n      <td>16371</td>\n      <td>Diamond V</td>\n      <td>1.0</td>\n    </tr>\n    <tr>\n      <th>17750</th>\n      <td>18350</td>\n      <td>Diamond I</td>\n      <td>1.0</td>\n    </tr>\n    <tr>\n      <th>12830</th>\n      <td>3858</td>\n      <td>Platinum I</td>\n      <td>1.0</td>\n    </tr>\n    <tr>\n      <th>17748</th>\n      <td>18163</td>\n      <td>Ruby II</td>\n      <td>1.0</td>\n    </tr>\n    <tr>\n      <th>17747</th>\n      <td>17879</td>\n      <td>Platinum II</td>\n      <td>1.0</td>\n    </tr>\n    <tr>\n      <th>16392</th>\n      <td>19327</td>\n      <td>Diamond IV</td>\n      <td>1.0</td>\n    </tr>\n    <tr>\n      <th>13547</th>\n      <td>6752</td>\n      <td>Silver V</td>\n      <td>1.0</td>\n    </tr>\n    <tr>\n      <th>12832</th>\n      <td>5041</td>\n      <td>Platinum II</td>\n      <td>1.0</td>\n    </tr>\n    <tr>\n      <th>16109</th>\n      <td>2214</td>\n      <td>Gold III</td>\n      <td>1.0</td>\n    </tr>\n    <tr>\n      <th>14659</th>\n      <td>11373</td>\n      <td>Platinum III</td>\n      <td>1.0</td>\n    </tr>\n  </tbody>\n</table>\n</div>"
     },
     "metadata": {},
     "execution_count": 200
    }
   ],
   "source": [
    "problem_df[['문제번호','난이도','평균시도']].sort_values('평균시도',ascending=True)[:10]\n",
    "\n"
   ]
  },
  {
   "cell_type": "code",
   "execution_count": 201,
   "metadata": {
    "tags": []
   },
   "outputs": [
    {
     "output_type": "stream",
     "name": "stdout",
     "text": "0\n"
    }
   ],
   "source": [
    "#난이도를 정제하여 난이도 수준을 맞춤\n",
    "level_array = ['Bronze','Silver','Gold','Platium','Diamond','Ruby']\n",
    "def level_set(df,target_problem):\n",
    "    level_idx = df.index[df['문제번호']==int(target_problem)]\n",
    "    level = level_array.index(df.loc[level_idx[0]]['난이도'].split(' ')[0])\n",
    "    print(level)\n",
    "    df['level'],df['temp']= df['난이도'].str.split(' ',1).str\n",
    "    for i, row in df.iterrows() :\n",
    "        if df.at[i,'level'] == 'Bronze':  # (1)\n",
    "            df.at[i,'평균시도'] = (abs(0-level))*df.at[i,'평균시도']            \n",
    "        elif df.at[i,'level'] == 'Silver':  # (1)\n",
    "            df.at[i,'평균시도'] = (abs(1-level))*df.at[i,'평균시도']\n",
    "        elif df.at[i,'level'] == 'Gold':  # (1)\n",
    "            df.at[i,'평균시도'] = (abs(2-level))*df.at[i,'평균시도']\n",
    "        elif df.at[i,'level'] == 'Platium':  # (1)\n",
    "            df.at[i,'평균시도'] = (abs(3-level))*df.at[i,'평균시도']\n",
    "        elif df.at[i,'level'] == 'Diamond':  # (1)\n",
    "            df.at[i,'평균시도'] = (abs(4-level))*df.at[i,'평균시도']\n",
    "        elif df.at[i,'level'] == 'Ruby':  # (1)\n",
    "            df.at[i,'평균시도'] = (abs(5-level))*df.at[i,'평균시도']\n",
    "        else:\n",
    "            df.at[i,'평균시도'] = 0\n",
    "level_set(problem_df,target_problem)"
   ]
  },
  {
   "cell_type": "code",
   "execution_count": 202,
   "metadata": {
    "tags": []
   },
   "outputs": [
    {
     "output_type": "stream",
     "name": "stdout",
     "text": "C:  4.897 m:  229.0\n"
    }
   ],
   "source": [
    "C = problem_df['평균시도'].mean()\n",
    "m = problem_df['해결'].quantile(0.6)\n",
    "print('C: ',round(C,3),'m: ',round(m,3))"
   ]
  },
  {
   "cell_type": "code",
   "execution_count": 203,
   "metadata": {
    "tags": []
   },
   "outputs": [
    {
     "output_type": "stream",
     "name": "stdout",
     "text": "문제번호                                    링크       난이도     제목  분류     해결  \\\n0  1000  https://www.acmicpc.net/problem/1000  Bronze V    A+B  수학  98776   \n1  1001  https://www.acmicpc.net/problem/1001  Bronze V    A-B  수학  81082   \n2  1007  https://www.acmicpc.net/problem/1007   Gold II  벡터 매칭  수학    858   \n\n   평균시도  weighted_vote  \n0  2.26       4.886159  \n1  1.39       4.883694  \n2  2.72       8.159672  \n"
    }
   ],
   "source": [
    "#원래 점수에 \n",
    "percentile = 0.6\n",
    "m = problem_df['해결'].quantile(0.6)\n",
    "C = problem_df['평균시도'].mean()\n",
    "\n",
    "def weighted_vote_average(record):\n",
    "    v = record['해결']\n",
    "    R = record['평균시도']\n",
    "\n",
    "    return  (v/(v+m)) * R + (v/(v+m)) * C\n",
    "\n",
    "\n",
    "problem['weighted_vote'] = problem_df.apply(weighted_vote_average,axis=1)\n",
    "print(problem.head(3))"
   ]
  },
  {
   "cell_type": "code",
   "execution_count": 204,
   "metadata": {},
   "outputs": [
    {
     "output_type": "execute_result",
     "data": {
      "text/plain": "        문제번호               제목         난이도   평균시도  weighted_vote    해결\n17227  13705     Ax+Bsin(x)=C  Diamond IV  31.84      45.969839   122\n17260   1626  두 번째로 작은 스패닝 트리   Diamond V   7.84      22.040082   355\n16527  13546         수열과 쿼리 4   Diamond V   7.80      16.082173   184\n12318   1600       말이 되고픈 원숭이      Gold V   5.70      14.968856  2580\n10594   3649          로봇 프로젝트     Gold IV   6.59      14.310659   870\n17524   1016          제곱 ㄴㄴ 수      Gold I   5.17      14.126572  2912\n17767   1005        ACM Craft    Gold III   4.88      13.916524  4301\n5534    1219          오민식의 고민     Gold II   6.89      13.390535   580\n9020    1107              리모컨      Gold V   4.49      13.308575  5357\n15550   9935           문자열 폭발     Gold IV   4.72      13.260294  2819",
      "text/html": "<div>\n<style scoped>\n    .dataframe tbody tr th:only-of-type {\n        vertical-align: middle;\n    }\n\n    .dataframe tbody tr th {\n        vertical-align: top;\n    }\n\n    .dataframe thead th {\n        text-align: right;\n    }\n</style>\n<table border=\"1\" class=\"dataframe\">\n  <thead>\n    <tr style=\"text-align: right;\">\n      <th></th>\n      <th>문제번호</th>\n      <th>제목</th>\n      <th>난이도</th>\n      <th>평균시도</th>\n      <th>weighted_vote</th>\n      <th>해결</th>\n    </tr>\n  </thead>\n  <tbody>\n    <tr>\n      <th>17227</th>\n      <td>13705</td>\n      <td>Ax+Bsin(x)=C</td>\n      <td>Diamond IV</td>\n      <td>31.84</td>\n      <td>45.969839</td>\n      <td>122</td>\n    </tr>\n    <tr>\n      <th>17260</th>\n      <td>1626</td>\n      <td>두 번째로 작은 스패닝 트리</td>\n      <td>Diamond V</td>\n      <td>7.84</td>\n      <td>22.040082</td>\n      <td>355</td>\n    </tr>\n    <tr>\n      <th>16527</th>\n      <td>13546</td>\n      <td>수열과 쿼리 4</td>\n      <td>Diamond V</td>\n      <td>7.80</td>\n      <td>16.082173</td>\n      <td>184</td>\n    </tr>\n    <tr>\n      <th>12318</th>\n      <td>1600</td>\n      <td>말이 되고픈 원숭이</td>\n      <td>Gold V</td>\n      <td>5.70</td>\n      <td>14.968856</td>\n      <td>2580</td>\n    </tr>\n    <tr>\n      <th>10594</th>\n      <td>3649</td>\n      <td>로봇 프로젝트</td>\n      <td>Gold IV</td>\n      <td>6.59</td>\n      <td>14.310659</td>\n      <td>870</td>\n    </tr>\n    <tr>\n      <th>17524</th>\n      <td>1016</td>\n      <td>제곱 ㄴㄴ 수</td>\n      <td>Gold I</td>\n      <td>5.17</td>\n      <td>14.126572</td>\n      <td>2912</td>\n    </tr>\n    <tr>\n      <th>17767</th>\n      <td>1005</td>\n      <td>ACM Craft</td>\n      <td>Gold III</td>\n      <td>4.88</td>\n      <td>13.916524</td>\n      <td>4301</td>\n    </tr>\n    <tr>\n      <th>5534</th>\n      <td>1219</td>\n      <td>오민식의 고민</td>\n      <td>Gold II</td>\n      <td>6.89</td>\n      <td>13.390535</td>\n      <td>580</td>\n    </tr>\n    <tr>\n      <th>9020</th>\n      <td>1107</td>\n      <td>리모컨</td>\n      <td>Gold V</td>\n      <td>4.49</td>\n      <td>13.308575</td>\n      <td>5357</td>\n    </tr>\n    <tr>\n      <th>15550</th>\n      <td>9935</td>\n      <td>문자열 폭발</td>\n      <td>Gold IV</td>\n      <td>4.72</td>\n      <td>13.260294</td>\n      <td>2819</td>\n    </tr>\n  </tbody>\n</table>\n</div>"
     },
     "metadata": {},
     "execution_count": 204
    }
   ],
   "source": [
    "problem = problem.drop_duplicates(['문제번호'],keep='last')\n",
    "#새로 부여된 weighted_vote 평점이 높은 순으로 상위 10개 추출\n",
    "problem[['문제번호','제목','난이도','평균시도','weighted_vote','해결']].sort_values(\n",
    "    'weighted_vote',ascending=False)[:10] "
   ]
  },
  {
   "cell_type": "code",
   "execution_count": 210,
   "metadata": {
    "tags": []
   },
   "outputs": [
    {
     "output_type": "stream",
     "name": "stdout",
     "text": "[4303]\n       문제번호                                    링크           난이도  \\\n1605   1011  https://www.acmicpc.net/problem/1011      Silver I   \n1608   1019  https://www.acmicpc.net/problem/1019        Gold I   \n1609   1024  https://www.acmicpc.net/problem/1024    Silver III   \n1614   1049  https://www.acmicpc.net/problem/1049     Silver IV   \n1616   1059  https://www.acmicpc.net/problem/1059      Silver V   \n...     ...                                   ...           ...   \n18197  2549  https://www.acmicpc.net/problem/2549        Gold I   \n18198  2794  https://www.acmicpc.net/problem/2794    Platinum I   \n18199  3110  https://www.acmicpc.net/problem/3110      Gold III   \n18200  3148  https://www.acmicpc.net/problem/3148  Platinum III   \n18201  4160  https://www.acmicpc.net/problem/4160    Platinum V   \n\n                                 제목        분류    해결  평균시도  weighted_vote  \n1605   Fly me to the Alpha Centauri        수학  8980  3.50       8.188667  \n1608                          책 페이지        수학  1437  2.76       8.985552  \n1609                          수열의 합        수학  2084  3.94       7.962526  \n1614                            기타줄        수학  3455  3.20       7.594142  \n1616                             수2        수학   755  3.68       6.581304  \n...                             ...       ...   ...   ...            ...  \n18197                       루빅의 사각형  중간에서 만나기   234  3.18       5.689529  \n18198                            화성  중간에서 만나기    11  3.00       0.224468  \n18199                           부등식  중간에서 만나기    38  2.79       1.491178  \n18200                            빙고  중간에서 만나기     3  4.00       0.063330  \n18201                            이혼  중간에서 만나기     9  2.67       0.185199  \n\n[3698 rows x 8 columns]\n(3698, 8)\n[[3899 4074 3992 3993 3994 3995 3996 3997 3998 3999 4000 4001 4002 4003\n  4004 4005 4006 4007 4008 4009]]\n[3899 4074 3992 3993 3994 3995 3996 3997 3998 3999 4000 4001 4002 4003\n 4004 4005 4006 4007 4008 4009]\n문제번호                                             1000\n링크               https://www.acmicpc.net/problem/1000\n난이도                                          Bronze V\n제목                                                A+B\n분류                                               사칙연산\n해결                                              98776\n평균시도                                             2.26\nweighted_vote                                 4.88616\nName: 12600, dtype: object\nInt64Index([ 1605,  1608,  1609,  1614,  1616,  1619,  1621,  1628,  1634,\n             1638,\n            ...\n            18192, 18193, 18194, 18195, 18196, 18197, 18198, 18199, 18200,\n            18201],\n           dtype='int64', length=3698)\n       문제번호           난이도                            제목  weighted_vote\n1605   1011      Silver I  Fly me to the Alpha Centauri       8.188667\n1608   1019        Gold I                         책 페이지       8.985552\n1609   1024    Silver III                         수열의 합       7.962526\n1614   1049     Silver IV                           기타줄       7.594142\n1616   1059      Silver V                            수2       6.581304\n...     ...           ...                           ...            ...\n18197  2549        Gold I                       루빅의 사각형       5.689529\n18198  2794    Platinum I                            화성       0.224468\n18199  3110      Gold III                           부등식       1.491178\n18200  3148  Platinum III                            빙고       0.063330\n18201  4160    Platinum V                            이혼       0.185199\n\n[3698 rows x 4 columns]\n"
    },
    {
     "output_type": "execute_result",
     "data": {
      "text/plain": "      문제번호                                    링크         난이도    제목  분류    해결  \\\n4303  1009  https://www.acmicpc.net/problem/1009  Bronze III  분산처리  구현  6579   \n\n      평균시도  weighted_vote  \n4303  3.82       4.732751  ",
      "text/html": "<div>\n<style scoped>\n    .dataframe tbody tr th:only-of-type {\n        vertical-align: middle;\n    }\n\n    .dataframe tbody tr th {\n        vertical-align: top;\n    }\n\n    .dataframe thead th {\n        text-align: right;\n    }\n</style>\n<table border=\"1\" class=\"dataframe\">\n  <thead>\n    <tr style=\"text-align: right;\">\n      <th></th>\n      <th>문제번호</th>\n      <th>링크</th>\n      <th>난이도</th>\n      <th>제목</th>\n      <th>분류</th>\n      <th>해결</th>\n      <th>평균시도</th>\n      <th>weighted_vote</th>\n    </tr>\n  </thead>\n  <tbody>\n    <tr>\n      <th>4303</th>\n      <td>1009</td>\n      <td>https://www.acmicpc.net/problem/1009</td>\n      <td>Bronze III</td>\n      <td>분산처리</td>\n      <td>구현</td>\n      <td>6579</td>\n      <td>3.82</td>\n      <td>4.732751</td>\n    </tr>\n  </tbody>\n</table>\n</div>"
     },
     "metadata": {},
     "execution_count": 210
    }
   ],
   "source": [
    "#이제 새롭게 정의된 평점 기준에 따라서 영화를 추천한다\n",
    "#장르 유사성이 높은 영화를 top_n의 2배수만큼 후보군으로 선정한 뒤에 weighted_vote 칼럼이 높은 순으로 top_n만큼 추출하는 방식으로\n",
    "#find_sim_movie()함수를 변경한다\n",
    "\n",
    "def find_sim_movie(df, sorted_ind, title_name, top_n =3):\n",
    "    title_problem = df[df['문제번호'] == int(title_name)]\n",
    "    title_index = title_problem.index.values\n",
    "    print(title_index)\n",
    "    print(df)\n",
    "    #top_n의 2배에 해당하는 장르 유사성이 높은 인덱스 추출\n",
    "    similar_indexes = sorted_ind[title_index, :(top_n*2)]\n",
    "    similar_indexs = similar_indexes.reshape(-1)\n",
    "    print(df.shape)\n",
    "    print(similar_indexes)\n",
    "    #기준 영화 인덱스는 제외\n",
    "    similar_indexes = similar_indexes[similar_indexes!=title_index]\n",
    "    print(similar_indexes)\n",
    "    print(df.loc[12600])\n",
    "    print(df.index)\n",
    "    print(df[['문제번호','난이도','제목','weighted_vote']])    \n",
    "    #top_n의 2배에 해당하는 후보군에서 weighted_vote가 높은 순으로 top_n만큼 추출\n",
    "    return df\n",
    "\n",
    "similar_problem = find_sim_movie(problem,genre_sim_sorted_ind,target_problem,10)\n",
    "similar_problem[['문제번호','제목','난이도','weighted_vote']].head(10)\n",
    "problem[problem['문제번호'] == int(target_problem)]"
   ]
  },
  {
   "cell_type": "code",
   "execution_count": null,
   "metadata": {},
   "outputs": [],
   "source": []
  }
 ],
 "metadata": {
  "kernelspec": {
   "display_name": "Python 3.5.3 64-bit",
   "language": "python",
   "name": "python_defaultSpec_1599694575365"
  },
  "language_info": {
   "codemirror_mode": {
    "name": "ipython",
    "version": 3
   },
   "file_extension": ".py",
   "mimetype": "text/x-python",
   "name": "python",
   "nbconvert_exporter": "python",
   "pygments_lexer": "ipython3",
   "version": "3.5.3-final"
  }
 },
 "nbformat": 4,
 "nbformat_minor": 2
}