{
  "nbformat": 4,
  "nbformat_minor": 0,
  "metadata": {
    "colab": {
      "name": "problem_reccommend4.ipynb",
      "provenance": [],
      "collapsed_sections": []
    },
    "kernelspec": {
      "name": "python3",
      "display_name": "Python 3"
    }
  },
  "cells": [
    {
      "cell_type": "code",
      "metadata": {
        "id": "t3mxArR8qDQR",
        "colab_type": "code",
        "colab": {
          "base_uri": "https://localhost:8080/",
          "height": 143
        },
        "outputId": "6a966ebf-4c8a-4d0c-c9eb-3781651a23b4"
      },
      "source": [
        "!pip install --upgrade pip\n",
        "!pip install pandas\n",
        "!pip install numpy"
      ],
      "execution_count": 7,
      "outputs": [
        {
          "output_type": "stream",
          "text": [
            "Requirement already up-to-date: pip in /usr/local/lib/python3.6/dist-packages (20.2.3)\n",
            "Requirement already satisfied: pandas in /usr/local/lib/python3.6/dist-packages (1.0.5)\n",
            "Requirement already satisfied: pytz>=2017.2 in /usr/local/lib/python3.6/dist-packages (from pandas) (2018.9)\n",
            "Requirement already satisfied: python-dateutil>=2.6.1 in /usr/local/lib/python3.6/dist-packages (from pandas) (2.8.1)\n",
            "Requirement already satisfied: numpy>=1.13.3 in /usr/local/lib/python3.6/dist-packages (from pandas) (1.18.5)\n",
            "Requirement already satisfied: six>=1.5 in /usr/local/lib/python3.6/dist-packages (from python-dateutil>=2.6.1->pandas) (1.15.0)\n",
            "Requirement already satisfied: numpy in /usr/local/lib/python3.6/dist-packages (1.18.5)\n"
          ],
          "name": "stdout"
        }
      ]
    },
    {
      "cell_type": "code",
      "metadata": {
        "id": "3q7VicxcqLfS",
        "colab_type": "code",
        "colab": {}
      },
      "source": [
        "import pandas as pd\n",
        "import numpy as np\n",
        "import warnings;warnings.filterwarnings('ignore')\n",
        "\n"
      ],
      "execution_count": 8,
      "outputs": []
    },
    {
      "cell_type": "code",
      "metadata": {
        "id": "1X_j-qT7qVht",
        "colab_type": "code",
        "colab": {
          "base_uri": "https://localhost:8080/",
          "height": 136
        },
        "outputId": "b49214c8-59f0-4d20-c29c-c41d5e1df561"
      },
      "source": [
        "problem_total = pd.read_csv('sample_data/problem.csv')\n",
        "target_user = pd.read_csv('sample_data/ans.csv')\n",
        "target_list = target_user[target_user['정답여부']==False]\n",
        "target_problems = np.array(target_list['문제번호'].tolist())\n",
        "level_array = ['Bronze','Silver','Gold','Platinum','Diamond','Ruby','Not']\n",
        "recommend_Problem = pd.DataFrame(columns=['문제번호','난이도','제목','weighted_vote'])\n",
        "for i in range(0, len(target_problems)):\n",
        "    problem = problem_total\n",
        "    target_problem = target_problems[i]   \n",
        "    problem_df = problem[['문제번호','난이도','분류','해결','평균시도']]\n",
        "    pd.set_option('max_colwidth',100)\n",
        "    #각각의 장르와 그 장르의 id를 추출해 낼 수 있다\n",
        "    problem_df[['분류','난이도']][:1]\n",
        "\n",
        "    from sklearn.feature_extraction.text import CountVectorizer\n",
        "\n",
        "    #CountVectorizer를 적용하기 위해 공백문자로 word 단위가 구분되는 문자열로 변환\n",
        "    count_vect  = CountVectorizer(min_df = 0, ngram_range=(1,2))\n",
        "    genre_mat = count_vect.fit_transform(problem_df['분류'])\n",
        "    \n",
        "    from sklearn.metrics.pairwise import cosine_similarity\n",
        "\n",
        "    genre_sim = cosine_similarity(genre_mat, genre_mat)\n",
        "    \n",
        "    genre_sim_sorted_ind = genre_sim.argsort()[:,::-1]\n",
        "    \n",
        "\n",
        "    #장르 유사도에 따라 영화를 추천하는 함수\n",
        "    #함수명 : find_sim_movie()\n",
        "    #movies_df DataFrame : 기반 데이터\n",
        "    #genre_sim_sorted_ind : 레코드별 장르 코사인 유사도 인덱스\n",
        "    #DataFrame : 고객이 선정한 추천 기준이 되는 영화제목, 추천할 영화 건수를 입력하면 추천 영화 정보를 가짐\n",
        "    def find_sim_problem(df, sorted_ind, title_name, top_n = 10):\n",
        "        \n",
        "        title_problem = df[df['문제번호']== int(title_name)]\n",
        "        \n",
        "        title_index = title_problem.index.values\n",
        "        similar_indexes = sorted_ind[title_index,:(top_n)]\n",
        "        \n",
        "        similar_indexes = similar_indexes.reshape(-1)\n",
        "        \n",
        "        return df.iloc[similar_indexes]\n",
        "\n",
        "    similar_movies = find_sim_problem(problem_df, genre_sim_sorted_ind,target_problem, 40)\n",
        "    similar_movies[['문제번호','평균시도','해결','난이도','분류']]\n",
        "\n",
        "    problem_df[['문제번호','난이도','평균시도']].sort_values('평균시도',ascending=True)[:10]\n",
        "\n",
        "\n",
        "    #난이도를 정제하여 난이도 수준을 맞춤\n",
        "    level_array = ['Bronze','Silver','Gold','Platinum','Diamond','Ruby']\n",
        "    def level_set(df,target_problem):\n",
        "        level_idx = df.index[df['문제번호']==int(target_problem)]\n",
        "        print(df.loc[level_idx[0]]['난이도'].split(' ')[0])\n",
        "        level = level_array.index(df.loc[level_idx[0]]['난이도'].split(' ')[0])\n",
        "        print(level)\n",
        "        df['level'],df['temp']= df['난이도'].str.split(' ',1).str\n",
        "        for i, row in df.iterrows() :\n",
        "            index = level_array.index(df.at[i,'level'])\n",
        "            if(index == level): df.at[i,'평균시도'] = df.at[i,'평균시도']\n",
        "            else:\n",
        "                df.at[i,'평균시도'] = (-1)*abs(index - level) * df.at[i,'평균시도']\n",
        "    try:\n",
        "      level_set(problem_df,target_problem)\n",
        "    except:\n",
        "      print(\"error!\")\n",
        "    C = problem_df['평균시도'].mean()\n",
        "    m = problem_df['해결'].quantile(0.6)\n",
        "    print('C: ',round(C,3),'m: ',round(m,3))\n",
        "\n",
        "\n",
        "    #원래 점수에 \n",
        "    percentile = 0.6\n",
        "    m = problem_df['해결'].quantile(0.6) # 최소 문제 푼 수\n",
        "    C = problem_df['평균시도'].mean() #전체 문제 평균 평점\n",
        "\n",
        "    def weighted_vote_average(record):\n",
        "        v = record['해결'] #개별 문제 평점\n",
        "        R = record['평균시도'] #개별 문제에 대한 평균평점\n",
        "\n",
        "        return  (v/(v+m)) * R + (v/(v+m)) * C\n",
        "\n",
        "\n",
        "    problem['weighted_vote'] = problem_df.apply(weighted_vote_average,axis=1)\n",
        "    print(problem.head(3))\n",
        "\n",
        "\n",
        "    problem = problem.drop_duplicates(['문제번호'],keep='last')\n",
        "    #새로 부여된 weighted_vote 평점이 높은 순으로 상위 10개 추출\n",
        "    problem[['문제번호','제목','난이도','평균시도','weighted_vote','해결']].sort_values(\n",
        "        'weighted_vote',ascending=False)[:10] \n",
        "\n",
        "\n",
        "    #이제 새롭게 정의된 평점 기준에 따라서 영화를 추천한다\n",
        "    #장르 유사성이 높은 영화를 top_n의 2배수만큼 후보군으로 선정한 뒤에 weighted_vote 칼럼이 높은 순으로 top_n만큼 추출하는 방식으로\n",
        "    #find_sim_movie()함수를 변경한다\n",
        "\n",
        "    def find_sim_movie(df, sorted_ind, title_name, top_n =3):\n",
        "        title_problem = df[df['문제번호'] == int(title_name)]\n",
        "        title_index = title_problem.index.values\n",
        "        #top_n의 2배에 해당하는 장르 유사성이 높은 인덱스 추출\n",
        "        similar_indexes = sorted_ind[title_index, :(top_n*2)]\n",
        "        similar_indexs = similar_indexes.reshape(-1)\n",
        "        #기준 영화 인덱스는 제외\n",
        "        similar_indexes = similar_indexes[similar_indexes!=title_index]\n",
        "        #top_n의 2배에 해당하는 후보군에서 weighted_vote가 높은 순으로 top_n만큼 추출\n",
        "        print(\"=============함수=================\")\n",
        "        print(df)\n",
        "        return df\n",
        "\n",
        "    similar_problem = find_sim_movie(problem,genre_sim_sorted_ind,target_problem,10)\n",
        "    similar_problem[['문제번호','난이도','제목','weighted_vote']]\n",
        "    \n",
        "    if(!similar_problem.isna):\n",
        "         recommend_Problem = pd.concat([recommend_Problem,similar_problem])\n",
        "    print(\"======================================================================\")\n",
        "    print(recommend_Problem)\n",
        "    print(\"======================================================================\")\n",
        "    #problem[problem['문제번호'] == int(target_problem)]"
      ],
      "execution_count": 11,
      "outputs": [
        {
          "output_type": "error",
          "ename": "SyntaxError",
          "evalue": "ignored",
          "traceback": [
            "\u001b[0;36m  File \u001b[0;32m\"<ipython-input-11-6147be33cedf>\"\u001b[0;36m, line \u001b[0;32m114\u001b[0m\n\u001b[0;31m    if(!similar_problem.isna):\u001b[0m\n\u001b[0m       ^\u001b[0m\n\u001b[0;31mSyntaxError\u001b[0m\u001b[0;31m:\u001b[0m invalid syntax\n"
          ]
        }
      ]
    },
    {
      "cell_type": "code",
      "metadata": {
        "id": "DbFyxhR4qhgn",
        "colab_type": "code",
        "colab": {
          "base_uri": "https://localhost:8080/",
          "height": 244
        },
        "outputId": "239ba809-0585-4e10-9aba-838e7fd7a60f"
      },
      "source": [
        "print(recommend_Problem)\n",
        "\n",
        "counting_result = recommend_Problem.sort_values(by='문제번호',ascending=False)\n",
        "\n",
        "recommend_Problem.drop_duplicates()"
      ],
      "execution_count": 10,
      "outputs": [
        {
          "output_type": "error",
          "ename": "NameError",
          "evalue": "ignored",
          "traceback": [
            "\u001b[0;31m---------------------------------------------------------------------------\u001b[0m",
            "\u001b[0;31mNameError\u001b[0m                                 Traceback (most recent call last)",
            "\u001b[0;32m<ipython-input-10-a528ceea8d31>\u001b[0m in \u001b[0;36m<module>\u001b[0;34m()\u001b[0m\n\u001b[0;32m----> 1\u001b[0;31m \u001b[0mprint\u001b[0m\u001b[0;34m(\u001b[0m\u001b[0mrecommend_Problem\u001b[0m\u001b[0;34m)\u001b[0m\u001b[0;34m\u001b[0m\u001b[0;34m\u001b[0m\u001b[0m\n\u001b[0m\u001b[1;32m      2\u001b[0m \u001b[0;34m\u001b[0m\u001b[0m\n\u001b[1;32m      3\u001b[0m \u001b[0mcounting_result\u001b[0m \u001b[0;34m=\u001b[0m \u001b[0mrecommend_Problem\u001b[0m\u001b[0;34m.\u001b[0m\u001b[0msort_values\u001b[0m\u001b[0;34m(\u001b[0m\u001b[0mby\u001b[0m\u001b[0;34m=\u001b[0m\u001b[0;34m'문제번호'\u001b[0m\u001b[0;34m,\u001b[0m\u001b[0mascending\u001b[0m\u001b[0;34m=\u001b[0m\u001b[0;32mFalse\u001b[0m\u001b[0;34m)\u001b[0m\u001b[0;34m\u001b[0m\u001b[0;34m\u001b[0m\u001b[0m\n\u001b[1;32m      4\u001b[0m \u001b[0;34m\u001b[0m\u001b[0m\n\u001b[1;32m      5\u001b[0m \u001b[0mrecommend_Problem\u001b[0m\u001b[0;34m.\u001b[0m\u001b[0mdrop_duplicates\u001b[0m\u001b[0;34m(\u001b[0m\u001b[0;34m)\u001b[0m\u001b[0;34m\u001b[0m\u001b[0;34m\u001b[0m\u001b[0m\n",
            "\u001b[0;31mNameError\u001b[0m: name 'recommend_Problem' is not defined"
          ]
        }
      ]
    }
  ]
}